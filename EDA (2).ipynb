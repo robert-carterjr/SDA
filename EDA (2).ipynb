{
 "cells": [
  {
   "cell_type": "markdown",
   "id": "82556f82-d4ef-4db3-bd31-83af94dedcb5",
   "metadata": {},
   "source": [
    "# Car Advertisement Analysis\n",
    "\n",
    "This project is intended to process, analyze and visualize the data taken from vehicles_us.csv. The data takes car advertisement listings from 2018 and contains information for 51,525 different vehicle sale listings. The vehicles range in age by model year from 1908 to 2019. The purpose of the data visualization below is to examine how price is influenced by various other factors such as model year, odometer reading, vehicle type and others. "
   ]
  },
  {
   "cell_type": "code",
   "execution_count": 1,
   "id": "d31feda9-8208-424c-b937-548fcc722380",
   "metadata": {},
   "outputs": [],
   "source": [
    "import pandas as pd\n",
    "import numpy as np\n",
    "\n",
    "import seaborn as sns\n",
    "import matplotlib.pyplot as plt"
   ]
  },
  {
   "cell_type": "markdown",
   "id": "7c5ba047-25de-4d23-ad64-86fc3a451916",
   "metadata": {},
   "source": [
    "## Importing the data"
   ]
  },
  {
   "cell_type": "code",
   "execution_count": 2,
   "id": "bab0bc3b-fa93-431e-8d02-a525220aa9db",
   "metadata": {},
   "outputs": [],
   "source": [
    "df = pd.read_csv('vehicles_us.csv')"
   ]
  },
  {
   "cell_type": "code",
   "execution_count": 3,
   "id": "ee8548d9-d0b4-4c7f-90d9-5a9bf134dbe2",
   "metadata": {
    "scrolled": true
   },
   "outputs": [
    {
     "name": "stdout",
     "output_type": "stream",
     "text": [
      "<class 'pandas.core.frame.DataFrame'>\n",
      "RangeIndex: 51525 entries, 0 to 51524\n",
      "Data columns (total 13 columns):\n",
      " #   Column        Non-Null Count  Dtype  \n",
      "---  ------        --------------  -----  \n",
      " 0   price         51525 non-null  int64  \n",
      " 1   model_year    47906 non-null  float64\n",
      " 2   model         51525 non-null  object \n",
      " 3   condition     51525 non-null  object \n",
      " 4   cylinders     46265 non-null  float64\n",
      " 5   fuel          51525 non-null  object \n",
      " 6   odometer      43633 non-null  float64\n",
      " 7   transmission  51525 non-null  object \n",
      " 8   type          51525 non-null  object \n",
      " 9   paint_color   42258 non-null  object \n",
      " 10  is_4wd        25572 non-null  float64\n",
      " 11  date_posted   51525 non-null  object \n",
      " 12  days_listed   51525 non-null  int64  \n",
      "dtypes: float64(4), int64(2), object(7)\n",
      "memory usage: 5.1+ MB\n"
     ]
    }
   ],
   "source": [
    "df.info()"
   ]
  },
  {
   "cell_type": "markdown",
   "id": "8822ff3d-40ae-468c-a7e4-3d25a486472e",
   "metadata": {},
   "source": [
    "The info() method demonstrates that there are 13 columns with up to 51,525 values in each. Some of the values are NaN, which can be representative of a binary figure. For example, the null values in 'is_4wd' simply indicate that the listing is for a vehicle that does not have 4wd. Other missing values within different columns do not make up a large portion of the data and should not have a significant impact. "
   ]
  },
  {
   "cell_type": "code",
   "execution_count": 4,
   "id": "48163ea5-ae5a-4c1d-9f88-7cab88e16e10",
   "metadata": {
    "scrolled": true
   },
   "outputs": [
    {
     "data": {
      "text/html": [
       "<div>\n",
       "<style scoped>\n",
       "    .dataframe tbody tr th:only-of-type {\n",
       "        vertical-align: middle;\n",
       "    }\n",
       "\n",
       "    .dataframe tbody tr th {\n",
       "        vertical-align: top;\n",
       "    }\n",
       "\n",
       "    .dataframe thead th {\n",
       "        text-align: right;\n",
       "    }\n",
       "</style>\n",
       "<table border=\"1\" class=\"dataframe\">\n",
       "  <thead>\n",
       "    <tr style=\"text-align: right;\">\n",
       "      <th></th>\n",
       "      <th>price</th>\n",
       "      <th>model_year</th>\n",
       "      <th>model</th>\n",
       "      <th>condition</th>\n",
       "      <th>cylinders</th>\n",
       "      <th>fuel</th>\n",
       "      <th>odometer</th>\n",
       "      <th>transmission</th>\n",
       "      <th>type</th>\n",
       "      <th>paint_color</th>\n",
       "      <th>is_4wd</th>\n",
       "      <th>date_posted</th>\n",
       "      <th>days_listed</th>\n",
       "    </tr>\n",
       "  </thead>\n",
       "  <tbody>\n",
       "    <tr>\n",
       "      <th>0</th>\n",
       "      <td>9400</td>\n",
       "      <td>2011.0</td>\n",
       "      <td>bmw x5</td>\n",
       "      <td>good</td>\n",
       "      <td>6.0</td>\n",
       "      <td>gas</td>\n",
       "      <td>145000.0</td>\n",
       "      <td>automatic</td>\n",
       "      <td>SUV</td>\n",
       "      <td>NaN</td>\n",
       "      <td>1.0</td>\n",
       "      <td>2018-06-23</td>\n",
       "      <td>19</td>\n",
       "    </tr>\n",
       "    <tr>\n",
       "      <th>1</th>\n",
       "      <td>25500</td>\n",
       "      <td>NaN</td>\n",
       "      <td>ford f-150</td>\n",
       "      <td>good</td>\n",
       "      <td>6.0</td>\n",
       "      <td>gas</td>\n",
       "      <td>88705.0</td>\n",
       "      <td>automatic</td>\n",
       "      <td>pickup</td>\n",
       "      <td>white</td>\n",
       "      <td>1.0</td>\n",
       "      <td>2018-10-19</td>\n",
       "      <td>50</td>\n",
       "    </tr>\n",
       "    <tr>\n",
       "      <th>2</th>\n",
       "      <td>5500</td>\n",
       "      <td>2013.0</td>\n",
       "      <td>hyundai sonata</td>\n",
       "      <td>like new</td>\n",
       "      <td>4.0</td>\n",
       "      <td>gas</td>\n",
       "      <td>110000.0</td>\n",
       "      <td>automatic</td>\n",
       "      <td>sedan</td>\n",
       "      <td>red</td>\n",
       "      <td>NaN</td>\n",
       "      <td>2019-02-07</td>\n",
       "      <td>79</td>\n",
       "    </tr>\n",
       "    <tr>\n",
       "      <th>3</th>\n",
       "      <td>1500</td>\n",
       "      <td>2003.0</td>\n",
       "      <td>ford f-150</td>\n",
       "      <td>fair</td>\n",
       "      <td>8.0</td>\n",
       "      <td>gas</td>\n",
       "      <td>NaN</td>\n",
       "      <td>automatic</td>\n",
       "      <td>pickup</td>\n",
       "      <td>NaN</td>\n",
       "      <td>NaN</td>\n",
       "      <td>2019-03-22</td>\n",
       "      <td>9</td>\n",
       "    </tr>\n",
       "    <tr>\n",
       "      <th>4</th>\n",
       "      <td>14900</td>\n",
       "      <td>2017.0</td>\n",
       "      <td>chrysler 200</td>\n",
       "      <td>excellent</td>\n",
       "      <td>4.0</td>\n",
       "      <td>gas</td>\n",
       "      <td>80903.0</td>\n",
       "      <td>automatic</td>\n",
       "      <td>sedan</td>\n",
       "      <td>black</td>\n",
       "      <td>NaN</td>\n",
       "      <td>2019-04-02</td>\n",
       "      <td>28</td>\n",
       "    </tr>\n",
       "  </tbody>\n",
       "</table>\n",
       "</div>"
      ],
      "text/plain": [
       "   price  model_year           model  condition  cylinders fuel  odometer  \\\n",
       "0   9400      2011.0          bmw x5       good        6.0  gas  145000.0   \n",
       "1  25500         NaN      ford f-150       good        6.0  gas   88705.0   \n",
       "2   5500      2013.0  hyundai sonata   like new        4.0  gas  110000.0   \n",
       "3   1500      2003.0      ford f-150       fair        8.0  gas       NaN   \n",
       "4  14900      2017.0    chrysler 200  excellent        4.0  gas   80903.0   \n",
       "\n",
       "  transmission    type paint_color  is_4wd date_posted  days_listed  \n",
       "0    automatic     SUV         NaN     1.0  2018-06-23           19  \n",
       "1    automatic  pickup       white     1.0  2018-10-19           50  \n",
       "2    automatic   sedan         red     NaN  2019-02-07           79  \n",
       "3    automatic  pickup         NaN     NaN  2019-03-22            9  \n",
       "4    automatic   sedan       black     NaN  2019-04-02           28  "
      ]
     },
     "execution_count": 4,
     "metadata": {},
     "output_type": "execute_result"
    }
   ],
   "source": [
    "df.head()"
   ]
  },
  {
   "cell_type": "markdown",
   "id": "851c1f5e-784d-4af0-b6ae-f95384eaa8d2",
   "metadata": {},
   "source": [
    "It is apparent from the first look at the 'model' column that the vehicle make and model name would be more useful as separate values within the DataFrame. "
   ]
  },
  {
   "cell_type": "markdown",
   "id": "4440f92b-6479-434e-9cb6-a822e1b8bde4",
   "metadata": {},
   "source": [
    "## Cleaning up the DataFrame"
   ]
  },
  {
   "cell_type": "code",
   "execution_count": 5,
   "id": "dc71d41b-64c3-4008-b892-82f2edbb54d0",
   "metadata": {},
   "outputs": [],
   "source": [
    "#separate the make and model strings into new columns\n",
    "df[['make','model']] = df['model'].str.split(\" \", n=1, expand=True)"
   ]
  },
  {
   "cell_type": "code",
   "execution_count": 6,
   "id": "de018bfa-f9d0-44b9-b38b-5dc13e5f3c47",
   "metadata": {
    "scrolled": true
   },
   "outputs": [
    {
     "data": {
      "text/html": [
       "<div>\n",
       "<style scoped>\n",
       "    .dataframe tbody tr th:only-of-type {\n",
       "        vertical-align: middle;\n",
       "    }\n",
       "\n",
       "    .dataframe tbody tr th {\n",
       "        vertical-align: top;\n",
       "    }\n",
       "\n",
       "    .dataframe thead th {\n",
       "        text-align: right;\n",
       "    }\n",
       "</style>\n",
       "<table border=\"1\" class=\"dataframe\">\n",
       "  <thead>\n",
       "    <tr style=\"text-align: right;\">\n",
       "      <th></th>\n",
       "      <th>price</th>\n",
       "      <th>model_year</th>\n",
       "      <th>model</th>\n",
       "      <th>condition</th>\n",
       "      <th>cylinders</th>\n",
       "      <th>fuel</th>\n",
       "      <th>odometer</th>\n",
       "      <th>transmission</th>\n",
       "      <th>type</th>\n",
       "      <th>paint_color</th>\n",
       "      <th>is_4wd</th>\n",
       "      <th>date_posted</th>\n",
       "      <th>days_listed</th>\n",
       "      <th>make</th>\n",
       "    </tr>\n",
       "  </thead>\n",
       "  <tbody>\n",
       "    <tr>\n",
       "      <th>0</th>\n",
       "      <td>9400</td>\n",
       "      <td>2011.0</td>\n",
       "      <td>x5</td>\n",
       "      <td>good</td>\n",
       "      <td>6.0</td>\n",
       "      <td>gas</td>\n",
       "      <td>145000.0</td>\n",
       "      <td>automatic</td>\n",
       "      <td>SUV</td>\n",
       "      <td>NaN</td>\n",
       "      <td>1.0</td>\n",
       "      <td>2018-06-23</td>\n",
       "      <td>19</td>\n",
       "      <td>bmw</td>\n",
       "    </tr>\n",
       "    <tr>\n",
       "      <th>1</th>\n",
       "      <td>25500</td>\n",
       "      <td>NaN</td>\n",
       "      <td>f-150</td>\n",
       "      <td>good</td>\n",
       "      <td>6.0</td>\n",
       "      <td>gas</td>\n",
       "      <td>88705.0</td>\n",
       "      <td>automatic</td>\n",
       "      <td>pickup</td>\n",
       "      <td>white</td>\n",
       "      <td>1.0</td>\n",
       "      <td>2018-10-19</td>\n",
       "      <td>50</td>\n",
       "      <td>ford</td>\n",
       "    </tr>\n",
       "    <tr>\n",
       "      <th>2</th>\n",
       "      <td>5500</td>\n",
       "      <td>2013.0</td>\n",
       "      <td>sonata</td>\n",
       "      <td>like new</td>\n",
       "      <td>4.0</td>\n",
       "      <td>gas</td>\n",
       "      <td>110000.0</td>\n",
       "      <td>automatic</td>\n",
       "      <td>sedan</td>\n",
       "      <td>red</td>\n",
       "      <td>NaN</td>\n",
       "      <td>2019-02-07</td>\n",
       "      <td>79</td>\n",
       "      <td>hyundai</td>\n",
       "    </tr>\n",
       "    <tr>\n",
       "      <th>3</th>\n",
       "      <td>1500</td>\n",
       "      <td>2003.0</td>\n",
       "      <td>f-150</td>\n",
       "      <td>fair</td>\n",
       "      <td>8.0</td>\n",
       "      <td>gas</td>\n",
       "      <td>NaN</td>\n",
       "      <td>automatic</td>\n",
       "      <td>pickup</td>\n",
       "      <td>NaN</td>\n",
       "      <td>NaN</td>\n",
       "      <td>2019-03-22</td>\n",
       "      <td>9</td>\n",
       "      <td>ford</td>\n",
       "    </tr>\n",
       "    <tr>\n",
       "      <th>4</th>\n",
       "      <td>14900</td>\n",
       "      <td>2017.0</td>\n",
       "      <td>200</td>\n",
       "      <td>excellent</td>\n",
       "      <td>4.0</td>\n",
       "      <td>gas</td>\n",
       "      <td>80903.0</td>\n",
       "      <td>automatic</td>\n",
       "      <td>sedan</td>\n",
       "      <td>black</td>\n",
       "      <td>NaN</td>\n",
       "      <td>2019-04-02</td>\n",
       "      <td>28</td>\n",
       "      <td>chrysler</td>\n",
       "    </tr>\n",
       "  </tbody>\n",
       "</table>\n",
       "</div>"
      ],
      "text/plain": [
       "   price  model_year   model  condition  cylinders fuel  odometer  \\\n",
       "0   9400      2011.0      x5       good        6.0  gas  145000.0   \n",
       "1  25500         NaN   f-150       good        6.0  gas   88705.0   \n",
       "2   5500      2013.0  sonata   like new        4.0  gas  110000.0   \n",
       "3   1500      2003.0   f-150       fair        8.0  gas       NaN   \n",
       "4  14900      2017.0     200  excellent        4.0  gas   80903.0   \n",
       "\n",
       "  transmission    type paint_color  is_4wd date_posted  days_listed      make  \n",
       "0    automatic     SUV         NaN     1.0  2018-06-23           19       bmw  \n",
       "1    automatic  pickup       white     1.0  2018-10-19           50      ford  \n",
       "2    automatic   sedan         red     NaN  2019-02-07           79   hyundai  \n",
       "3    automatic  pickup         NaN     NaN  2019-03-22            9      ford  \n",
       "4    automatic   sedan       black     NaN  2019-04-02           28  chrysler  "
      ]
     },
     "execution_count": 6,
     "metadata": {},
     "output_type": "execute_result"
    }
   ],
   "source": [
    "df.head()"
   ]
  },
  {
   "cell_type": "code",
   "execution_count": 7,
   "id": "ee6945af-329b-477c-810a-562b7d15b7a4",
   "metadata": {},
   "outputs": [],
   "source": [
    "#drop the date_posted column as it is unnecessary\n",
    "df = df.drop(df.columns[11], axis=1)"
   ]
  },
  {
   "cell_type": "code",
   "execution_count": 8,
   "id": "98122d5f-54a9-4125-a727-c436523dc097",
   "metadata": {},
   "outputs": [
    {
     "data": {
      "text/html": [
       "<div>\n",
       "<style scoped>\n",
       "    .dataframe tbody tr th:only-of-type {\n",
       "        vertical-align: middle;\n",
       "    }\n",
       "\n",
       "    .dataframe tbody tr th {\n",
       "        vertical-align: top;\n",
       "    }\n",
       "\n",
       "    .dataframe thead th {\n",
       "        text-align: right;\n",
       "    }\n",
       "</style>\n",
       "<table border=\"1\" class=\"dataframe\">\n",
       "  <thead>\n",
       "    <tr style=\"text-align: right;\">\n",
       "      <th></th>\n",
       "      <th>price</th>\n",
       "      <th>model_year</th>\n",
       "      <th>model</th>\n",
       "      <th>condition</th>\n",
       "      <th>cylinders</th>\n",
       "      <th>fuel</th>\n",
       "      <th>odometer</th>\n",
       "      <th>transmission</th>\n",
       "      <th>type</th>\n",
       "      <th>paint_color</th>\n",
       "      <th>is_4wd</th>\n",
       "      <th>days_listed</th>\n",
       "      <th>make</th>\n",
       "    </tr>\n",
       "  </thead>\n",
       "  <tbody>\n",
       "    <tr>\n",
       "      <th>0</th>\n",
       "      <td>9400</td>\n",
       "      <td>2011.0</td>\n",
       "      <td>x5</td>\n",
       "      <td>good</td>\n",
       "      <td>6.0</td>\n",
       "      <td>gas</td>\n",
       "      <td>145000.0</td>\n",
       "      <td>automatic</td>\n",
       "      <td>SUV</td>\n",
       "      <td>NaN</td>\n",
       "      <td>1.0</td>\n",
       "      <td>19</td>\n",
       "      <td>bmw</td>\n",
       "    </tr>\n",
       "    <tr>\n",
       "      <th>1</th>\n",
       "      <td>25500</td>\n",
       "      <td>NaN</td>\n",
       "      <td>f-150</td>\n",
       "      <td>good</td>\n",
       "      <td>6.0</td>\n",
       "      <td>gas</td>\n",
       "      <td>88705.0</td>\n",
       "      <td>automatic</td>\n",
       "      <td>pickup</td>\n",
       "      <td>white</td>\n",
       "      <td>1.0</td>\n",
       "      <td>50</td>\n",
       "      <td>ford</td>\n",
       "    </tr>\n",
       "    <tr>\n",
       "      <th>2</th>\n",
       "      <td>5500</td>\n",
       "      <td>2013.0</td>\n",
       "      <td>sonata</td>\n",
       "      <td>like new</td>\n",
       "      <td>4.0</td>\n",
       "      <td>gas</td>\n",
       "      <td>110000.0</td>\n",
       "      <td>automatic</td>\n",
       "      <td>sedan</td>\n",
       "      <td>red</td>\n",
       "      <td>NaN</td>\n",
       "      <td>79</td>\n",
       "      <td>hyundai</td>\n",
       "    </tr>\n",
       "    <tr>\n",
       "      <th>3</th>\n",
       "      <td>1500</td>\n",
       "      <td>2003.0</td>\n",
       "      <td>f-150</td>\n",
       "      <td>fair</td>\n",
       "      <td>8.0</td>\n",
       "      <td>gas</td>\n",
       "      <td>NaN</td>\n",
       "      <td>automatic</td>\n",
       "      <td>pickup</td>\n",
       "      <td>NaN</td>\n",
       "      <td>NaN</td>\n",
       "      <td>9</td>\n",
       "      <td>ford</td>\n",
       "    </tr>\n",
       "    <tr>\n",
       "      <th>4</th>\n",
       "      <td>14900</td>\n",
       "      <td>2017.0</td>\n",
       "      <td>200</td>\n",
       "      <td>excellent</td>\n",
       "      <td>4.0</td>\n",
       "      <td>gas</td>\n",
       "      <td>80903.0</td>\n",
       "      <td>automatic</td>\n",
       "      <td>sedan</td>\n",
       "      <td>black</td>\n",
       "      <td>NaN</td>\n",
       "      <td>28</td>\n",
       "      <td>chrysler</td>\n",
       "    </tr>\n",
       "  </tbody>\n",
       "</table>\n",
       "</div>"
      ],
      "text/plain": [
       "   price  model_year   model  condition  cylinders fuel  odometer  \\\n",
       "0   9400      2011.0      x5       good        6.0  gas  145000.0   \n",
       "1  25500         NaN   f-150       good        6.0  gas   88705.0   \n",
       "2   5500      2013.0  sonata   like new        4.0  gas  110000.0   \n",
       "3   1500      2003.0   f-150       fair        8.0  gas       NaN   \n",
       "4  14900      2017.0     200  excellent        4.0  gas   80903.0   \n",
       "\n",
       "  transmission    type paint_color  is_4wd  days_listed      make  \n",
       "0    automatic     SUV         NaN     1.0           19       bmw  \n",
       "1    automatic  pickup       white     1.0           50      ford  \n",
       "2    automatic   sedan         red     NaN           79   hyundai  \n",
       "3    automatic  pickup         NaN     NaN            9      ford  \n",
       "4    automatic   sedan       black     NaN           28  chrysler  "
      ]
     },
     "execution_count": 8,
     "metadata": {},
     "output_type": "execute_result"
    }
   ],
   "source": [
    "df.head()"
   ]
  },
  {
   "cell_type": "markdown",
   "id": "76f0db78-27a6-401a-8222-14c665568f80",
   "metadata": {},
   "source": [
    "## Data Prepocessing"
   ]
  },
  {
   "cell_type": "code",
   "execution_count": 9,
   "id": "6df9f226-298c-4a90-9434-d6df38649b66",
   "metadata": {},
   "outputs": [],
   "source": [
    "#create a variable that defines a list of manufacturer names\n",
    "make_options = df['make'].unique()"
   ]
  },
  {
   "cell_type": "code",
   "execution_count": 10,
   "id": "5fff877f-22a8-4daf-992f-8166f49079c8",
   "metadata": {
    "scrolled": true
   },
   "outputs": [
    {
     "data": {
      "text/plain": [
       "1908.0"
      ]
     },
     "execution_count": 10,
     "metadata": {},
     "output_type": "execute_result"
    }
   ],
   "source": [
    "# it will be useful to know the min and max values for the model_year values\n",
    "df['model_year'].min()"
   ]
  },
  {
   "cell_type": "code",
   "execution_count": 11,
   "id": "bc21945c-e865-4ab4-ac07-c2fe9c0d17dc",
   "metadata": {},
   "outputs": [
    {
     "data": {
      "text/plain": [
       "2019.0"
      ]
     },
     "execution_count": 11,
     "metadata": {},
     "output_type": "execute_result"
    }
   ],
   "source": [
    "df['model_year'].max()"
   ]
  },
  {
   "cell_type": "markdown",
   "id": "b5dd1628-b7b0-4a1f-9a99-45145a13b2d3",
   "metadata": {},
   "source": [
    "Let's take a look at how many rows actually have data on vehicles older than 1950"
   ]
  },
  {
   "cell_type": "code",
   "execution_count": 12,
   "id": "ed8f5fd5-7587-4d5a-940c-58573b71b173",
   "metadata": {},
   "outputs": [
    {
     "data": {
      "text/plain": [
       "model_year\n",
       "False    51519\n",
       "True         6\n",
       "Name: count, dtype: int64"
      ]
     },
     "execution_count": 12,
     "metadata": {},
     "output_type": "execute_result"
    }
   ],
   "source": [
    "older_than_1950 = (df['model_year'] < 1950).value_counts()\n",
    "older_than_1950"
   ]
  },
  {
   "cell_type": "markdown",
   "id": "aff1ba34-0815-4dfa-8cc3-37482b892a63",
   "metadata": {},
   "source": [
    "With only six rows containing cars older than 1950, it would be safe to narrow the range and drop those values"
   ]
  },
  {
   "cell_type": "code",
   "execution_count": 13,
   "id": "75d6e264-710a-4ec9-a653-77af38f448f3",
   "metadata": {},
   "outputs": [],
   "source": [
    "min_year, max_year = int(df['model_year'].min()), int(df['model_year'].max())"
   ]
  },
  {
   "cell_type": "markdown",
   "id": "9acdee71-9da6-4b85-bb9a-7c59005659f7",
   "metadata": {},
   "source": [
    "Creating a new column for further analysis of vehicle age"
   ]
  },
  {
   "cell_type": "code",
   "execution_count": 14,
   "id": "2d343d0f-dbff-4511-8191-221f47c81cdf",
   "metadata": {
    "scrolled": true
   },
   "outputs": [
    {
     "data": {
      "text/html": [
       "<div>\n",
       "<style scoped>\n",
       "    .dataframe tbody tr th:only-of-type {\n",
       "        vertical-align: middle;\n",
       "    }\n",
       "\n",
       "    .dataframe tbody tr th {\n",
       "        vertical-align: top;\n",
       "    }\n",
       "\n",
       "    .dataframe thead th {\n",
       "        text-align: right;\n",
       "    }\n",
       "</style>\n",
       "<table border=\"1\" class=\"dataframe\">\n",
       "  <thead>\n",
       "    <tr style=\"text-align: right;\">\n",
       "      <th></th>\n",
       "      <th>price</th>\n",
       "      <th>model_year</th>\n",
       "      <th>model</th>\n",
       "      <th>condition</th>\n",
       "      <th>cylinders</th>\n",
       "      <th>fuel</th>\n",
       "      <th>odometer</th>\n",
       "      <th>transmission</th>\n",
       "      <th>type</th>\n",
       "      <th>paint_color</th>\n",
       "      <th>is_4wd</th>\n",
       "      <th>days_listed</th>\n",
       "      <th>make</th>\n",
       "      <th>age</th>\n",
       "    </tr>\n",
       "  </thead>\n",
       "  <tbody>\n",
       "    <tr>\n",
       "      <th>48747</th>\n",
       "      <td>13900</td>\n",
       "      <td>2009.0</td>\n",
       "      <td>escalade</td>\n",
       "      <td>good</td>\n",
       "      <td>8.0</td>\n",
       "      <td>gas</td>\n",
       "      <td>158883.0</td>\n",
       "      <td>automatic</td>\n",
       "      <td>SUV</td>\n",
       "      <td>NaN</td>\n",
       "      <td>1.0</td>\n",
       "      <td>56</td>\n",
       "      <td>cadillac</td>\n",
       "      <td>10.0</td>\n",
       "    </tr>\n",
       "    <tr>\n",
       "      <th>7516</th>\n",
       "      <td>29400</td>\n",
       "      <td>NaN</td>\n",
       "      <td>suburban</td>\n",
       "      <td>excellent</td>\n",
       "      <td>8.0</td>\n",
       "      <td>gas</td>\n",
       "      <td>40655.0</td>\n",
       "      <td>automatic</td>\n",
       "      <td>SUV</td>\n",
       "      <td>NaN</td>\n",
       "      <td>NaN</td>\n",
       "      <td>36</td>\n",
       "      <td>chevrolet</td>\n",
       "      <td>NaN</td>\n",
       "    </tr>\n",
       "    <tr>\n",
       "      <th>30175</th>\n",
       "      <td>9998</td>\n",
       "      <td>2013.0</td>\n",
       "      <td>f-150</td>\n",
       "      <td>excellent</td>\n",
       "      <td>8.0</td>\n",
       "      <td>gas</td>\n",
       "      <td>205000.0</td>\n",
       "      <td>automatic</td>\n",
       "      <td>pickup</td>\n",
       "      <td>black</td>\n",
       "      <td>NaN</td>\n",
       "      <td>31</td>\n",
       "      <td>ford</td>\n",
       "      <td>6.0</td>\n",
       "    </tr>\n",
       "    <tr>\n",
       "      <th>3142</th>\n",
       "      <td>3450</td>\n",
       "      <td>1989.0</td>\n",
       "      <td>tacoma</td>\n",
       "      <td>good</td>\n",
       "      <td>4.0</td>\n",
       "      <td>gas</td>\n",
       "      <td>NaN</td>\n",
       "      <td>automatic</td>\n",
       "      <td>pickup</td>\n",
       "      <td>NaN</td>\n",
       "      <td>NaN</td>\n",
       "      <td>51</td>\n",
       "      <td>toyota</td>\n",
       "      <td>30.0</td>\n",
       "    </tr>\n",
       "    <tr>\n",
       "      <th>45949</th>\n",
       "      <td>5500</td>\n",
       "      <td>2003.0</td>\n",
       "      <td>f350 super duty</td>\n",
       "      <td>good</td>\n",
       "      <td>NaN</td>\n",
       "      <td>diesel</td>\n",
       "      <td>195000.0</td>\n",
       "      <td>automatic</td>\n",
       "      <td>pickup</td>\n",
       "      <td>white</td>\n",
       "      <td>1.0</td>\n",
       "      <td>44</td>\n",
       "      <td>ford</td>\n",
       "      <td>16.0</td>\n",
       "    </tr>\n",
       "  </tbody>\n",
       "</table>\n",
       "</div>"
      ],
      "text/plain": [
       "       price  model_year            model  condition  cylinders    fuel  \\\n",
       "48747  13900      2009.0         escalade       good        8.0     gas   \n",
       "7516   29400         NaN         suburban  excellent        8.0     gas   \n",
       "30175   9998      2013.0            f-150  excellent        8.0     gas   \n",
       "3142    3450      1989.0           tacoma       good        4.0     gas   \n",
       "45949   5500      2003.0  f350 super duty       good        NaN  diesel   \n",
       "\n",
       "       odometer transmission    type paint_color  is_4wd  days_listed  \\\n",
       "48747  158883.0    automatic     SUV         NaN     1.0           56   \n",
       "7516    40655.0    automatic     SUV         NaN     NaN           36   \n",
       "30175  205000.0    automatic  pickup       black     NaN           31   \n",
       "3142        NaN    automatic  pickup         NaN     NaN           51   \n",
       "45949  195000.0    automatic  pickup       white     1.0           44   \n",
       "\n",
       "            make   age  \n",
       "48747   cadillac  10.0  \n",
       "7516   chevrolet   NaN  \n",
       "30175       ford   6.0  \n",
       "3142      toyota  30.0  \n",
       "45949       ford  16.0  "
      ]
     },
     "execution_count": 14,
     "metadata": {},
     "output_type": "execute_result"
    }
   ],
   "source": [
    "df['age'] = 2019 - df['model_year']\n",
    "df.sample(5)"
   ]
  },
  {
   "cell_type": "markdown",
   "id": "3329dbf6-aba4-45ac-936d-4ec529572bfb",
   "metadata": {},
   "source": [
    "Using the most recent column to further segment the age of the vehicles into explicit ranges for better visualization"
   ]
  },
  {
   "cell_type": "code",
   "execution_count": 15,
   "id": "e10a38b3-a5d2-4e98-967b-2c1996f69f2b",
   "metadata": {},
   "outputs": [],
   "source": [
    "def age_category(x):\n",
    "    if x<5: return '<5'\n",
    "    elif x>=5 and x<10: return '5-10'\n",
    "    elif x>=10 and x<20: return '10-20'\n",
    "    else: return '>20'"
   ]
  },
  {
   "cell_type": "code",
   "execution_count": 16,
   "id": "ebfe97fe-e3ea-4eb2-a8b8-dc687b694d78",
   "metadata": {},
   "outputs": [],
   "source": [
    "df['age_category'] = df['age'].apply(age_category)"
   ]
  },
  {
   "cell_type": "code",
   "execution_count": 17,
   "id": "474952b0-8598-4260-ab6f-6267b732f86c",
   "metadata": {
    "scrolled": true
   },
   "outputs": [
    {
     "data": {
      "text/html": [
       "<div>\n",
       "<style scoped>\n",
       "    .dataframe tbody tr th:only-of-type {\n",
       "        vertical-align: middle;\n",
       "    }\n",
       "\n",
       "    .dataframe tbody tr th {\n",
       "        vertical-align: top;\n",
       "    }\n",
       "\n",
       "    .dataframe thead th {\n",
       "        text-align: right;\n",
       "    }\n",
       "</style>\n",
       "<table border=\"1\" class=\"dataframe\">\n",
       "  <thead>\n",
       "    <tr style=\"text-align: right;\">\n",
       "      <th></th>\n",
       "      <th>price</th>\n",
       "      <th>model_year</th>\n",
       "      <th>model</th>\n",
       "      <th>condition</th>\n",
       "      <th>cylinders</th>\n",
       "      <th>fuel</th>\n",
       "      <th>odometer</th>\n",
       "      <th>transmission</th>\n",
       "      <th>type</th>\n",
       "      <th>paint_color</th>\n",
       "      <th>is_4wd</th>\n",
       "      <th>days_listed</th>\n",
       "      <th>make</th>\n",
       "      <th>age</th>\n",
       "      <th>age_category</th>\n",
       "    </tr>\n",
       "  </thead>\n",
       "  <tbody>\n",
       "    <tr>\n",
       "      <th>0</th>\n",
       "      <td>9400</td>\n",
       "      <td>2011.0</td>\n",
       "      <td>x5</td>\n",
       "      <td>good</td>\n",
       "      <td>6.0</td>\n",
       "      <td>gas</td>\n",
       "      <td>145000.0</td>\n",
       "      <td>automatic</td>\n",
       "      <td>SUV</td>\n",
       "      <td>NaN</td>\n",
       "      <td>1.0</td>\n",
       "      <td>19</td>\n",
       "      <td>bmw</td>\n",
       "      <td>8.0</td>\n",
       "      <td>5-10</td>\n",
       "    </tr>\n",
       "    <tr>\n",
       "      <th>1</th>\n",
       "      <td>25500</td>\n",
       "      <td>NaN</td>\n",
       "      <td>f-150</td>\n",
       "      <td>good</td>\n",
       "      <td>6.0</td>\n",
       "      <td>gas</td>\n",
       "      <td>88705.0</td>\n",
       "      <td>automatic</td>\n",
       "      <td>pickup</td>\n",
       "      <td>white</td>\n",
       "      <td>1.0</td>\n",
       "      <td>50</td>\n",
       "      <td>ford</td>\n",
       "      <td>NaN</td>\n",
       "      <td>&gt;20</td>\n",
       "    </tr>\n",
       "    <tr>\n",
       "      <th>2</th>\n",
       "      <td>5500</td>\n",
       "      <td>2013.0</td>\n",
       "      <td>sonata</td>\n",
       "      <td>like new</td>\n",
       "      <td>4.0</td>\n",
       "      <td>gas</td>\n",
       "      <td>110000.0</td>\n",
       "      <td>automatic</td>\n",
       "      <td>sedan</td>\n",
       "      <td>red</td>\n",
       "      <td>NaN</td>\n",
       "      <td>79</td>\n",
       "      <td>hyundai</td>\n",
       "      <td>6.0</td>\n",
       "      <td>5-10</td>\n",
       "    </tr>\n",
       "    <tr>\n",
       "      <th>3</th>\n",
       "      <td>1500</td>\n",
       "      <td>2003.0</td>\n",
       "      <td>f-150</td>\n",
       "      <td>fair</td>\n",
       "      <td>8.0</td>\n",
       "      <td>gas</td>\n",
       "      <td>NaN</td>\n",
       "      <td>automatic</td>\n",
       "      <td>pickup</td>\n",
       "      <td>NaN</td>\n",
       "      <td>NaN</td>\n",
       "      <td>9</td>\n",
       "      <td>ford</td>\n",
       "      <td>16.0</td>\n",
       "      <td>10-20</td>\n",
       "    </tr>\n",
       "    <tr>\n",
       "      <th>4</th>\n",
       "      <td>14900</td>\n",
       "      <td>2017.0</td>\n",
       "      <td>200</td>\n",
       "      <td>excellent</td>\n",
       "      <td>4.0</td>\n",
       "      <td>gas</td>\n",
       "      <td>80903.0</td>\n",
       "      <td>automatic</td>\n",
       "      <td>sedan</td>\n",
       "      <td>black</td>\n",
       "      <td>NaN</td>\n",
       "      <td>28</td>\n",
       "      <td>chrysler</td>\n",
       "      <td>2.0</td>\n",
       "      <td>&lt;5</td>\n",
       "    </tr>\n",
       "  </tbody>\n",
       "</table>\n",
       "</div>"
      ],
      "text/plain": [
       "   price  model_year   model  condition  cylinders fuel  odometer  \\\n",
       "0   9400      2011.0      x5       good        6.0  gas  145000.0   \n",
       "1  25500         NaN   f-150       good        6.0  gas   88705.0   \n",
       "2   5500      2013.0  sonata   like new        4.0  gas  110000.0   \n",
       "3   1500      2003.0   f-150       fair        8.0  gas       NaN   \n",
       "4  14900      2017.0     200  excellent        4.0  gas   80903.0   \n",
       "\n",
       "  transmission    type paint_color  is_4wd  days_listed      make   age  \\\n",
       "0    automatic     SUV         NaN     1.0           19       bmw   8.0   \n",
       "1    automatic  pickup       white     1.0           50      ford   NaN   \n",
       "2    automatic   sedan         red     NaN           79   hyundai   6.0   \n",
       "3    automatic  pickup         NaN     NaN            9      ford  16.0   \n",
       "4    automatic   sedan       black     NaN           28  chrysler   2.0   \n",
       "\n",
       "  age_category  \n",
       "0         5-10  \n",
       "1          >20  \n",
       "2         5-10  \n",
       "3        10-20  \n",
       "4           <5  "
      ]
     },
     "execution_count": 17,
     "metadata": {},
     "output_type": "execute_result"
    }
   ],
   "source": [
    "df.head()"
   ]
  },
  {
   "cell_type": "markdown",
   "id": "72501845-313c-4f2a-be94-f13a9cb8c0fc",
   "metadata": {},
   "source": [
    "### General Analysis"
   ]
  },
  {
   "cell_type": "code",
   "execution_count": 18,
   "id": "b688c49c-cb98-4d81-82eb-ae4971d16a25",
   "metadata": {},
   "outputs": [
    {
     "data": {
      "text/plain": [
       "make\n",
       "acura              236\n",
       "bmw                267\n",
       "buick              271\n",
       "cadillac           322\n",
       "chevrolet        10611\n",
       "chrysler           838\n",
       "dodge             1255\n",
       "ford             12672\n",
       "gmc               2378\n",
       "honda             3485\n",
       "hyundai           1173\n",
       "jeep              3281\n",
       "kia                585\n",
       "mercedes-benz       41\n",
       "nissan            3208\n",
       "ram               3316\n",
       "subaru            1272\n",
       "toyota            5445\n",
       "volkswagen         869\n",
       "Name: model, dtype: int64"
      ]
     },
     "execution_count": 18,
     "metadata": {},
     "output_type": "execute_result"
    }
   ],
   "source": [
    "make_group = df.groupby('make')['model'].size()\n",
    "make_group"
   ]
  },
  {
   "cell_type": "markdown",
   "id": "69bbe892-97f3-4888-b47c-d5f870839d5f",
   "metadata": {},
   "source": [
    "From the table above, we can see the most popular makes of vehicles are ford, chevrolet, toyota."
   ]
  },
  {
   "cell_type": "code",
   "execution_count": 30,
   "id": "3c4c2866-c933-4361-8596-b4860ef58665",
   "metadata": {
    "scrolled": true
   },
   "outputs": [
    {
     "data": {
      "text/plain": [
       "model\n",
       "mustang              681\n",
       "cr-v                 685\n",
       "tahoe                713\n",
       "focus                754\n",
       "grand cherokee       806\n",
       "altima               813\n",
       "civic                815\n",
       "tacoma               827\n",
       "escape               841\n",
       "explorer             847\n",
       "sierra 1500          906\n",
       "silverado 2500hd     915\n",
       "accord               964\n",
       "camry                990\n",
       "2500                1091\n",
       "wrangler            1119\n",
       "silverado           1271\n",
       "1500                1750\n",
       "silverado 1500      2171\n",
       "f-150               2796\n",
       "dtype: int64"
      ]
     },
     "metadata": {},
     "output_type": "display_data"
    },
    {
     "ename": "AttributeError",
     "evalue": "'NoneType' object has no attribute 'sort_values'",
     "output_type": "error",
     "traceback": [
      "\u001b[1;31m---------------------------------------------------------------------------\u001b[0m",
      "\u001b[1;31mAttributeError\u001b[0m                            Traceback (most recent call last)",
      "Cell \u001b[1;32mIn[30], line 5\u001b[0m\n\u001b[0;32m      3\u001b[0m model_group \n\u001b[0;32m      4\u001b[0m model_top_20 \u001b[38;5;241m=\u001b[39m model_group\u001b[38;5;241m.\u001b[39mtail(\u001b[38;5;241m20\u001b[39m)\n\u001b[1;32m----> 5\u001b[0m display(model_top_20)\u001b[38;5;241m.\u001b[39msort_values(ascending\u001b[38;5;241m=\u001b[39m\u001b[38;5;28;01mFalse\u001b[39;00m)\n",
      "\u001b[1;31mAttributeError\u001b[0m: 'NoneType' object has no attribute 'sort_values'"
     ]
    }
   ],
   "source": [
    "# visualize the popularity of each model\n",
    "model_group = df.groupby('model').size().sort_values()\n",
    "model_group \n",
    "model_top_20 = model_group.tail(20)\n",
    "display(model_top_20)"
   ]
  },
  {
   "cell_type": "markdown",
   "id": "565b8212-7d4e-4eae-b645-018770910a6b",
   "metadata": {},
   "source": [
    "As we can see from the analysis of model popularity, the most frequently listed models come from the ford, chevrolet and jeep models. This follows the previous table's indication of most popular makes. "
   ]
  },
  {
   "cell_type": "markdown",
   "id": "44d60e48-5089-4765-b116-8666c3f36af7",
   "metadata": {},
   "source": [
    "### Price Analysis"
   ]
  },
  {
   "cell_type": "code",
   "execution_count": null,
   "id": "97a2a1f9-6d0e-4dfe-9e03-df85f4f3e4fb",
   "metadata": {},
   "outputs": [],
   "source": [
    "#determine the average price by vehicle type\n",
    "avg_price_type = df.groupby('type')['price'].mean().reset_index() "
   ]
  },
  {
   "cell_type": "code",
   "execution_count": null,
   "id": "b3e30222-cb7c-43bf-adf4-b2eb25017e89",
   "metadata": {
    "scrolled": true
   },
   "outputs": [],
   "source": [
    "fig, ax = plt.subplots(figsize=(5,3))\n",
    "sns.barplot(data=avg_price_type, x=\"type\", y=\"price\")\n",
    "ax.set_xlabel('Type')\n",
    "ax.set_ylabel('Average vehicle price')\n",
    "ax.set_title('Average price by vehicle type')\n",
    "plt.xticks(rotation=90)\n",
    "plt.show()"
   ]
  },
  {
   "cell_type": "markdown",
   "id": "bddefd21-678e-438d-bc2c-64b614eff836",
   "metadata": {},
   "source": [
    "The above barplot demonstrates that vehicle type has a significant impact on the average list price of a vehicle in the dataset. Notable vehicle types with high average values are bus, convertible, coupe, offroad, pickup and truck. It makes sense when you consider that these types are split between the most utility and luxury-driven vehicle types. "
   ]
  },
  {
   "cell_type": "code",
   "execution_count": null,
   "id": "e6d3b47d-0ab9-48f2-ad3d-e9c014c81790",
   "metadata": {},
   "outputs": [],
   "source": [
    "#determine the average price by vehicle manufacturer\n",
    "avg_price_make = df.groupby('make')['price'].mean().reset_index()"
   ]
  },
  {
   "cell_type": "code",
   "execution_count": null,
   "id": "44284dc7-0f03-4f6f-b311-237b4ca1be1f",
   "metadata": {
    "scrolled": true
   },
   "outputs": [],
   "source": [
    "fig, ax = plt.subplots(figsize=(5,3))\n",
    "sns.barplot(data=avg_price_make, x=\"make\", y=\"price\")\n",
    "ax.set_xlabel('Make')\n",
    "ax.set_ylabel('Average vehicle price')\n",
    "ax.set_title('Average price by vehicle manufacturer')\n",
    "plt.xticks(rotation=90)\n",
    "plt.show()"
   ]
  },
  {
   "cell_type": "markdown",
   "id": "66351518-e4f1-4d38-ab25-db2e8748795d",
   "metadata": {},
   "source": [
    "This barplot allows us to view the average list price by vehicle manufacturer, or 'make' in this instance. We can clearly see that Mercedes-Benz greatly exceeds the prices of the other makes in this dataset. The other manufacturers showing relatively higher prices are truck and luxury brands. This matches the trend we saw in the previous visualization."
   ]
  },
  {
   "cell_type": "code",
   "execution_count": null,
   "id": "1d6dde1d-0db2-4f77-8e10-92987db0468a",
   "metadata": {},
   "outputs": [],
   "source": [
    "# create a scatterplot to see how well price is correlated to odometer aka vehicle mileage\n",
    "fig, ax = plt.subplots(figsize=(5,3))\n",
    "sns.scatterplot(data=df, x=\"odometer\", y=\"price\",)\n",
    "ax.set_ylim(0, 200000)\n",
    "ax.set_xlim(0, 600000)\n",
    "ax.set_xlabel('Odometer Reading')\n",
    "ax.set_ylabel('List Price')\n",
    "ax.set_title('Odometer Vs Price')\n",
    "plt.show()"
   ]
  },
  {
   "cell_type": "markdown",
   "id": "4dd9f755-e857-49ce-ba3c-6580257d9b0b",
   "metadata": {},
   "source": [
    "As we can see from the scatterplot above, the general trend for list price is to decrease with higher vehicle mileage, as we would expect. There are some outliers that do not follow this trend, but the vast majority of the datapoints show what we would expect from vehicle prices as they gain more miles on the odometer. "
   ]
  },
  {
   "cell_type": "markdown",
   "id": "1fef4818-05ae-4f3e-aa6f-4020bb52430f",
   "metadata": {},
   "source": [
    "## General Conlusions"
   ]
  },
  {
   "cell_type": "markdown",
   "id": "c438f331-02c0-496a-a768-f317904c73fe",
   "metadata": {},
   "source": [
    "After processing the data and organizing it in a way that is easy to visualize, we are able to conclude that vehicle price is heavily influenced by type, meaning whether it is a small car, truck or bus. This is shown both in interactive histograms on the plotly express render page, as well as average list price by these 'type' categories with the bar charts in this notebook. Vehicle price has a negative correlation with odometer, meaning on average, higher odometer readings means lower prices for the vehicle.\n",
    "\n",
    "There are several outliers in the dataset among very high mileage vehicles and ones with significantly higher list prices than the rest of the dataset. This skews the data visualization attempts, so it was necessary to filter the outliers out at times to better represent the data and observe the trends more easily. Being able to filter the interactive visuals is quite helpful in representing the effects of vehicle condition on list price, with 'new', 'like new' and 'good' indicating higher list prices compared to the other lower level condition descriptions. \n",
    "\n",
    "These methods of analyzing and visualizing the data are helpful in viewing trends among the dataset. The code and visual aids could easily be modified to analyze similar data sets within the industry and likely in others also. "
   ]
  },
  {
   "cell_type": "code",
   "execution_count": null,
   "id": "12c651c3-0052-4a98-9849-68fab29ce24b",
   "metadata": {},
   "outputs": [],
   "source": []
  }
 ],
 "metadata": {
  "kernelspec": {
   "display_name": "Python 3 (ipykernel)",
   "language": "python",
   "name": "python3"
  },
  "language_info": {
   "codemirror_mode": {
    "name": "ipython",
    "version": 3
   },
   "file_extension": ".py",
   "mimetype": "text/x-python",
   "name": "python",
   "nbconvert_exporter": "python",
   "pygments_lexer": "ipython3",
   "version": "3.11.5"
  }
 },
 "nbformat": 4,
 "nbformat_minor": 5
}
